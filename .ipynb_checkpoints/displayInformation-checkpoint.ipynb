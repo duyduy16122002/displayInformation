{
 "cells": [
  {
   "cell_type": "code",
   "execution_count": 1,
   "id": "accb1312",
   "metadata": {},
   "outputs": [
    {
     "name": "stdout",
     "output_type": "stream",
     "text": [
      "Họ tên: Nguyễn Đăng Duy\n",
      "Ngày sinh: 16/12/2002\n",
      "Địa chỉ: 304/4 kp Bình Minh 1, Dĩ An, Bình Dương\n",
      "Mục đích học Python: bổ sung kiến thức phục vụ công việc\n"
     ]
    }
   ],
   "source": [
    "print(\"Họ tên: Nguyễn Đăng Duy\")\n",
    "print(\"Ngày sinh: 16/12/2002\")\n",
    "print(\"Địa chỉ: 304/4 kp Bình Minh 1, Dĩ An, Bình Dương\")\n",
    "print(\"Mục đích học Python: bổ sung kiến thức phục vụ công việc\")"
   ]
  }
 ],
 "metadata": {
  "kernelspec": {
   "display_name": "Python 3 (ipykernel)",
   "language": "python",
   "name": "python3"
  },
  "language_info": {
   "codemirror_mode": {
    "name": "ipython",
    "version": 3
   },
   "file_extension": ".py",
   "mimetype": "text/x-python",
   "name": "python",
   "nbconvert_exporter": "python",
   "pygments_lexer": "ipython3",
   "version": "3.9.12"
  }
 },
 "nbformat": 4,
 "nbformat_minor": 5
}
